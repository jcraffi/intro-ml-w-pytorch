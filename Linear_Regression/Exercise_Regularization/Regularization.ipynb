{
 "cells": [
  {
   "cell_type": "code",
   "execution_count": 1,
   "metadata": {},
   "outputs": [],
   "source": [
    "# TODO: Add import statements\n",
    "import numpy as np\n",
    "import pandas as pd\n",
    "from sklearn.linear_model import Lasso"
   ]
  },
  {
   "cell_type": "code",
   "execution_count": 3,
   "metadata": {},
   "outputs": [
    {
     "name": "stdout",
     "output_type": "stream",
     "text": [
      "         0        1         2         3        4        5         6\n",
      "0  1.25664  2.04978  -6.23640   4.71926 -4.26931  0.20590  12.31798\n",
      "1 -3.89012 -0.37511   6.14979   4.94585 -3.57844  0.00640  23.67628\n",
      "2  5.09784  0.98120  -0.29939   5.85805  0.28297 -0.20626  -1.53459\n",
      "3  0.39034 -3.06861  -5.63488   6.43941  0.39256 -0.07084 -24.68670\n",
      "4  5.84727 -0.15922  11.41246   7.52165  1.69886  0.29022  17.54122\n",
      "5 -2.86202 -0.84337  -1.08165   0.67115 -2.48911  0.52328   9.39789\n",
      "6 -7.09328 -0.07233   6.76632  13.06072  0.12876 -0.01048  11.73565\n",
      "7 -7.17614  0.62875  -2.89924  -5.21458 -2.70344 -0.22035   4.42482\n",
      "8  8.67430  2.09933 -11.23591  -5.99532 -2.79770 -0.08710  -5.94615\n",
      "9 -6.03324 -4.16724   2.42063  -3.61827  1.96815  0.17723 -13.11848\n"
     ]
    }
   ],
   "source": [
    "# Assign the data to predictor and outcome variables\n",
    "# TODO: Load the data\n",
    "train_data = pd.read_csv('data.csv', header = None)\n",
    "\n",
    "# Print the first 10 rows of the data\n",
    "print(train_data.head(10))\n",
    "\n",
    "X = train_data.iloc[:,:-1]\n",
    "y = train_data.iloc[:,-1]"
   ]
  },
  {
   "cell_type": "code",
   "execution_count": 4,
   "metadata": {},
   "outputs": [
    {
     "data": {
      "text/plain": [
       "array([ 0.        ,  2.35793224,  2.00441646, -0.05511954, -3.92808318,\n",
       "        0.        ])"
      ]
     },
     "execution_count": 4,
     "metadata": {},
     "output_type": "execute_result"
    }
   ],
   "source": [
    "# TODO: Create the linear regression model with lasso regularization.\n",
    "lasso_reg = Lasso()\n",
    "\n",
    "# TODO: Fit the model.\n",
    "lasso_reg.fit(X, y)\n",
    "\n",
    "# TODO: Retrieve and print out the coefficients from the regression model.\n",
    "reg_coef = lasso_reg.coef_\n",
    "reg_coef"
   ]
  }
 ],
 "metadata": {
  "kernelspec": {
   "display_name": "Python 3",
   "language": "python",
   "name": "python3"
  },
  "language_info": {
   "codemirror_mode": {
    "name": "ipython",
    "version": 3
   },
   "file_extension": ".py",
   "mimetype": "text/x-python",
   "name": "python",
   "nbconvert_exporter": "python",
   "pygments_lexer": "ipython3",
   "version": "3.12.4"
  }
 },
 "nbformat": 4,
 "nbformat_minor": 2
}
