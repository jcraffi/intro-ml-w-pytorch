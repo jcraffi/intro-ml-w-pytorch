{
 "cells": [
  {
   "cell_type": "code",
   "execution_count": 1,
   "metadata": {
    "grader_id": "tpan1eblwvo"
   },
   "outputs": [
    {
     "name": "stdout",
     "output_type": "stream",
     "text": [
      "Well done!\n"
     ]
    }
   ],
   "source": [
    "import numpy as np\n",
    "def sigmoid(x):\n",
    "    \"\"\"\n",
    "    Calculate sigmoid\n",
    "    \"\"\"\n",
    "    return 1 / (1 + np.exp(-np.array(x, dtype=float)))\n",
    "x = np.array([0.5, 0.1, -0.2])\n",
    "target = 0.6\n",
    "learnrate = 0.5\n",
    "weights_input_hidden = np.array([[0.5, -0.6],\n",
    "                                 [0.1, -0.2],\n",
    "                                 [0.1, 0.7]])\n",
    "weights_hidden_output = np.array([0.1, -0.3])\n",
    "\n",
    "## Forward pass\n",
    "hidden_layer_input = np.dot(x, weights_input_hidden)\n",
    "hidden_layer_output = sigmoid(hidden_layer_input)\n",
    "output_layer_in = np.dot(hidden_layer_output, weights_hidden_output)\n",
    "output = sigmoid(output_layer_in)\n",
    "\n",
    "## Backwards pass\n",
    "\n",
    "## TODO: Calculate output error\n",
    "error = target-output\n",
    "\n",
    "### Notebook grading\n",
    "error_answer = target - output\n",
    "\n",
    "if error == error_answer:\n",
    "    print(\"Well done!\")\n",
    "else:\n",
    "    print(\"Try again. Something is wrong in your submission\")"
   ]
  },
  {
   "cell_type": "code",
   "execution_count": 2,
   "metadata": {
    "grader_id": "qmxtpj5tamp"
   },
   "outputs": [
    {
     "name": "stdout",
     "output_type": "stream",
     "text": [
      "Well done!\n"
     ]
    }
   ],
   "source": [
    "# TODO: Calculate error term for output layer\n",
    "output_error_term = error*output*(1-output)\n",
    "\n",
    "### Notebook grading\n",
    "\n",
    "del_err_output_answer = error_answer * output * (1 - output)\n",
    "\n",
    "if output_error_term == del_err_output_answer:\n",
    "    print(\"Well done!\")\n",
    "else:\n",
    "    print(\"Try again. Something is wrong in your submission\")"
   ]
  },
  {
   "cell_type": "code",
   "execution_count": 3,
   "metadata": {
    "grader_id": "zj3fszdv71"
   },
   "outputs": [
    {
     "name": "stdout",
     "output_type": "stream",
     "text": [
      "Well done!\n"
     ]
    }
   ],
   "source": [
    "# TODO: Calculate error term for hidden layer\n",
    "hidden_error_term = np.dot(output_error_term,weights_hidden_output)*hidden_layer_output*(1-hidden_layer_output)\n",
    "\n",
    "### Notebook grading\n",
    "\n",
    "del_err_hidden_answer = np.dot(del_err_output_answer, weights_hidden_output) * \\\n",
    "                    hidden_layer_output * (1 - hidden_layer_output)\n",
    "\n",
    "test_h = del_err_hidden_answer == hidden_error_term\n",
    "\n",
    "if test_h.all():\n",
    "    print(\"Well done!\")\n",
    "else:\n",
    "    print(\"Try again. Something is wrong in your submission\")"
   ]
  },
  {
   "cell_type": "code",
   "execution_count": 8,
   "metadata": {
    "grader_id": "69z9t19f1bc"
   },
   "outputs": [
    {
     "name": "stdout",
     "output_type": "stream",
     "text": [
      "Well done!\n"
     ]
    }
   ],
   "source": [
    "# TODO: Calculate change in weights for hidden layer to output layer\n",
    "delta_w_h_o = learnrate*output_error_term*hidden_layer_output\n",
    "\n",
    "### Notebook grading\n",
    "delta_w_h_o_answer = learnrate * del_err_output_answer * hidden_layer_output\n",
    "\n",
    "test_w_h_o = delta_w_h_o_answer == delta_w_h_o\n",
    "\n",
    "if test_w_h_o.all():\n",
    "    print(\"Well done!\")\n",
    "else:\n",
    "    print(\"Try again. Something is wrong in your submission\")"
   ]
  },
  {
   "cell_type": "code",
   "execution_count": 9,
   "metadata": {
    "grader_id": "qq3jm1wy8mc"
   },
   "outputs": [
    {
     "ename": "ValueError",
     "evalue": "operands could not be broadcast together with shapes (2,) (3,) ",
     "output_type": "error",
     "traceback": [
      "\u001b[0;31m---------------------------------------------------------------------------\u001b[0m",
      "\u001b[0;31mValueError\u001b[0m                                Traceback (most recent call last)",
      "Cell \u001b[0;32mIn[9], line 2\u001b[0m\n\u001b[1;32m      1\u001b[0m \u001b[38;5;66;03m# TODO: Calculate change in weights for input layer to hidden layer\u001b[39;00m\n\u001b[0;32m----> 2\u001b[0m delta_w_i_h \u001b[38;5;241m=\u001b[39m \u001b[43mlearnrate\u001b[49m\u001b[38;5;241;43m*\u001b[39;49m\u001b[43mhidden_error_term\u001b[49m\u001b[38;5;241;43m*\u001b[39;49m\u001b[43mx\u001b[49m\n\u001b[1;32m      3\u001b[0m \u001b[38;5;28mprint\u001b[39m(\u001b[38;5;124m'\u001b[39m\u001b[38;5;124mChange in weights for hidden layer to output layer:\u001b[39m\u001b[38;5;124m'\u001b[39m)\n\u001b[1;32m      4\u001b[0m \u001b[38;5;28mprint\u001b[39m(delta_w_h_o)\n",
      "\u001b[0;31mValueError\u001b[0m: operands could not be broadcast together with shapes (2,) (3,) "
     ]
    }
   ],
   "source": [
    "# TODO: Calculate change in weights for input layer to hidden layer\n",
    "delta_w_i_h = learnrate*hidden_error_term*x\n",
    "print('Change in weights for hidden layer to output layer:')\n",
    "print(delta_w_h_o)\n",
    "print('Change in weights for input layer to hidden layer:')\n",
    "print(delta_w_i_h)\n",
    "\n",
    "### Notebook grading\n",
    "\n",
    "delta_w_i_h_answer = learnrate * del_err_hidden_answer * x[:, None]\n",
    "\n",
    "\n",
    "test_w_i_h = delta_w_i_h_answer == delta_w_i_h\n",
    "\n",
    "if test_w_i_h.all():\n",
    "    print(\"Well done!\")\n",
    "else:\n",
    "    print(\"Try again. Something is wrong in your submission\")"
   ]
  },
  {
   "cell_type": "code",
   "execution_count": null,
   "metadata": {
    "grader_id": "ajhs33i6si"
   },
   "outputs": [],
   "source": []
  }
 ],
 "metadata": {
  "kernelspec": {
   "display_name": "Python 3 (ipykernel)",
   "language": "python",
   "name": "python3"
  },
  "language_info": {
   "codemirror_mode": {
    "name": "ipython",
    "version": 3
   },
   "file_extension": ".py",
   "mimetype": "text/x-python",
   "name": "python",
   "nbconvert_exporter": "python",
   "pygments_lexer": "ipython3",
   "version": "3.10.13"
  }
 },
 "nbformat": 4,
 "nbformat_minor": 2
}
