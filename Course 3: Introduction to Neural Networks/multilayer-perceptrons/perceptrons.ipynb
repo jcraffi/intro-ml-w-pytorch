{
 "cells": [
  {
   "cell_type": "code",
   "execution_count": 2,
   "metadata": {
    "grader_id": "lz4ffelzky"
   },
   "outputs": [
    {
     "name": "stdout",
     "output_type": "stream",
     "text": [
      "Hidden-layer Output:\n",
      "[0.41492192 0.42604313 0.5002434 ]\n",
      "Good job! You got the correct calculation on the hidden layer.\n"
     ]
    }
   ],
   "source": [
    "import numpy as np\n",
    "def sigmoid(x):\n",
    "    \"\"\"\n",
    "    Calculate sigmoid\n",
    "    \"\"\"\n",
    "    return 1/(1+np.exp(-x))\n",
    "# Network size\n",
    "N_input = 4\n",
    "N_hidden = 3\n",
    "N_output = 2\n",
    "np.random.seed(42)\n",
    "\n",
    "# Make some fake data\n",
    "X = np.random.randn(4)\n",
    "weights_input_to_hidden = np.random.normal(0, scale=0.1, size=(N_input, N_hidden))\n",
    "weights_hidden_to_output = np.random.normal(0, scale=0.1, size=(N_hidden, N_output))\n",
    "\n",
    "# TODO: Make a forward pass through the network (hidden layer)\n",
    "hidden_layer_in = np.dot(X, weights_input_to_hidden)\n",
    "hidden_layer_out = sigmoid(hidden_layer_in)\n",
    "\n",
    "print('Hidden-layer Output:')\n",
    "print(hidden_layer_out)\n",
    "\n",
    "### Notebook grading\n",
    "hidden_layer_in_ans = np.dot(X, weights_input_to_hidden)\n",
    "hidden_layer_out_ans = sigmoid(hidden_layer_in_ans)\n",
    "\n",
    "test_hidden_layer_in = hidden_layer_in_ans == hidden_layer_in\n",
    "test_hidden_layer_out = hidden_layer_out_ans == hidden_layer_out\n",
    "\n",
    "if test_hidden_layer_out.all():\n",
    "    print(\"Good job! You got the correct calculation on the hidden layer.\")\n",
    "else:\n",
    "    print('Try again. hidden_layer_out should be {}'.format(hidden_layer_out_ans))"
   ]
  },
  {
   "cell_type": "code",
   "execution_count": 2,
   "metadata": {
    "grader_id": "3a1z1kz74eh"
   },
   "outputs": [
    {
     "name": "stdout",
     "output_type": "stream",
     "text": [
      "Output-layer Output:\n",
      "[ 0.  0.]\n"
     ]
    }
   ],
   "source": [
    "# TODO: Make a forward pass through the network (output layer)\n",
    "\n",
    "output_layer_out_answer = [0.49815196,  0.48539772]\n",
    "\n",
    "output_layer_in = np.zeros(N_output) # replace with your code\n",
    "output_layer_out = np.zeros(N_output) # replace with your code\n",
    "print('Output-layer Output:')\n",
    "print(output_layer_out)\n",
    "\n",
    "### Notebook grading\n",
    "output_layer_in_ans = np.dot(hidden_layer_out_ans, weights_hidden_to_output)\n",
    "output_layer_out_ans = sigmoid(output_layer_in_ans)\n",
    "\n",
    "test_output_layer_out = output_layer_out_ans == output_layer_out\n",
    "\n",
    "if test_output_layer_out.all():\n",
    "    print(\"Good job! You got the correct calculation on the output layer.\")\n",
    "else:\n",
    "    print('Try again. output_layer_out should be {}'.format(output_layer_out_ans))"
   ]
  }
 ],
 "metadata": {
  "kernelspec": {
   "display_name": "Python 3 (ipykernel)",
   "language": "python",
   "name": "python3"
  },
  "language_info": {
   "codemirror_mode": {
    "name": "ipython",
    "version": 3
   },
   "file_extension": ".py",
   "mimetype": "text/x-python",
   "name": "python",
   "nbconvert_exporter": "python",
   "pygments_lexer": "ipython3",
   "version": "3.10.13"
  }
 },
 "nbformat": 4,
 "nbformat_minor": 2
}
